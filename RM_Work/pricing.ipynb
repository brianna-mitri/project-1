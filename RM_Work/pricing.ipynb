{
 "cells": [
  {
   "cell_type": "markdown",
   "metadata": {},
   "source": [
    "Compare retailer order outcomes, promotion usage, and how they affect profitability"
   ]
  },
  {
   "cell_type": "code",
   "execution_count": 2,
   "metadata": {},
   "outputs": [
    {
     "ename": "ValueError",
     "evalue": "\n    Invalid value of type 'builtins.float' received for the 'x[0]' property of pie.domain\n        Received value: -0.3400538888888889\n\n    The 'x[0]' property is a number and may be specified as:\n      - An int or float in the interval [0, 1]",
     "output_type": "error",
     "traceback": [
      "\u001b[0;31m---------------------------------------------------------------------------\u001b[0m",
      "\u001b[0;31mValueError\u001b[0m                                Traceback (most recent call last)",
      "Cell \u001b[0;32mIn[2], line 31\u001b[0m\n\u001b[1;32m     29\u001b[0m \u001b[38;5;66;03m# Add the pie charts\u001b[39;00m\n\u001b[1;32m     30\u001b[0m \u001b[38;5;28;01mfor\u001b[39;00m i \u001b[38;5;129;01min\u001b[39;00m \u001b[38;5;28mrange\u001b[39m(\u001b[38;5;28mlen\u001b[39m(df)):\n\u001b[0;32m---> 31\u001b[0m     fig\u001b[38;5;241m.\u001b[39madd_trace(go\u001b[38;5;241m.\u001b[39mPie(\n\u001b[1;32m     32\u001b[0m         values\u001b[38;5;241m=\u001b[39m[df[\u001b[38;5;124m'\u001b[39m\u001b[38;5;124mcategory1\u001b[39m\u001b[38;5;124m'\u001b[39m][i], df[\u001b[38;5;124m'\u001b[39m\u001b[38;5;124mcategory2\u001b[39m\u001b[38;5;124m'\u001b[39m][i]],\n\u001b[1;32m     33\u001b[0m         labels\u001b[38;5;241m=\u001b[39m[\u001b[38;5;124m'\u001b[39m\u001b[38;5;124mCategory 1\u001b[39m\u001b[38;5;124m'\u001b[39m, \u001b[38;5;124m'\u001b[39m\u001b[38;5;124mCategory 2\u001b[39m\u001b[38;5;124m'\u001b[39m],\n\u001b[1;32m     34\u001b[0m         domain\u001b[38;5;241m=\u001b[39m\u001b[38;5;28mdict\u001b[39m(x\u001b[38;5;241m=\u001b[39m[df[\u001b[38;5;124m'\u001b[39m\u001b[38;5;124mlongitude\u001b[39m\u001b[38;5;124m'\u001b[39m][i]\u001b[38;5;241m/\u001b[39m\u001b[38;5;241m360\u001b[39m, df[\u001b[38;5;124m'\u001b[39m\u001b[38;5;124mlongitude\u001b[39m\u001b[38;5;124m'\u001b[39m][i]\u001b[38;5;241m/\u001b[39m\u001b[38;5;241m360\u001b[39m \u001b[38;5;241m+\u001b[39m \u001b[38;5;241m0.05\u001b[39m],\n\u001b[1;32m     35\u001b[0m                     y\u001b[38;5;241m=\u001b[39m[df[\u001b[38;5;124m'\u001b[39m\u001b[38;5;124mlatitude\u001b[39m\u001b[38;5;124m'\u001b[39m][i]\u001b[38;5;241m/\u001b[39m\u001b[38;5;241m180\u001b[39m, df[\u001b[38;5;124m'\u001b[39m\u001b[38;5;124mlatitude\u001b[39m\u001b[38;5;124m'\u001b[39m][i]\u001b[38;5;241m/\u001b[39m\u001b[38;5;241m180\u001b[39m \u001b[38;5;241m+\u001b[39m \u001b[38;5;241m0.05\u001b[39m]),\n\u001b[1;32m     36\u001b[0m         hole\u001b[38;5;241m=\u001b[39m\u001b[38;5;241m0.3\u001b[39m,\n\u001b[1;32m     37\u001b[0m         showlegend\u001b[38;5;241m=\u001b[39m\u001b[38;5;28;01mFalse\u001b[39;00m\n\u001b[1;32m     38\u001b[0m     ))\n\u001b[1;32m     40\u001b[0m \u001b[38;5;66;03m# Update layout\u001b[39;00m\n\u001b[1;32m     41\u001b[0m fig\u001b[38;5;241m.\u001b[39mupdate_layout(\n\u001b[1;32m     42\u001b[0m     geo\u001b[38;5;241m=\u001b[39m\u001b[38;5;28mdict\u001b[39m(\n\u001b[1;32m     43\u001b[0m         scope\u001b[38;5;241m=\u001b[39m\u001b[38;5;124m'\u001b[39m\u001b[38;5;124musa\u001b[39m\u001b[38;5;124m'\u001b[39m,\n\u001b[0;32m   (...)\u001b[0m\n\u001b[1;32m     51\u001b[0m     title\u001b[38;5;241m=\u001b[39m\u001b[38;5;124m'\u001b[39m\u001b[38;5;124mBubble Map with Pie Charts\u001b[39m\u001b[38;5;124m'\u001b[39m\n\u001b[1;32m     52\u001b[0m )\n",
      "File \u001b[0;32m/opt/anaconda3/lib/python3.12/site-packages/plotly/graph_objs/_pie.py:2330\u001b[0m, in \u001b[0;36mPie.__init__\u001b[0;34m(self, arg, automargin, customdata, customdatasrc, direction, dlabel, domain, hole, hoverinfo, hoverinfosrc, hoverlabel, hovertemplate, hovertemplatesrc, hovertext, hovertextsrc, ids, idssrc, insidetextfont, insidetextorientation, label0, labels, labelssrc, legend, legendgroup, legendgrouptitle, legendrank, legendwidth, marker, meta, metasrc, name, opacity, outsidetextfont, pull, pullsrc, rotation, scalegroup, showlegend, sort, stream, text, textfont, textinfo, textposition, textpositionsrc, textsrc, texttemplate, texttemplatesrc, title, titlefont, titleposition, uid, uirevision, values, valuessrc, visible, **kwargs)\u001b[0m\n\u001b[1;32m   2328\u001b[0m _v \u001b[38;5;241m=\u001b[39m domain \u001b[38;5;28;01mif\u001b[39;00m domain \u001b[38;5;129;01mis\u001b[39;00m \u001b[38;5;129;01mnot\u001b[39;00m \u001b[38;5;28;01mNone\u001b[39;00m \u001b[38;5;28;01melse\u001b[39;00m _v\n\u001b[1;32m   2329\u001b[0m \u001b[38;5;28;01mif\u001b[39;00m _v \u001b[38;5;129;01mis\u001b[39;00m \u001b[38;5;129;01mnot\u001b[39;00m \u001b[38;5;28;01mNone\u001b[39;00m:\n\u001b[0;32m-> 2330\u001b[0m     \u001b[38;5;28mself\u001b[39m[\u001b[38;5;124m\"\u001b[39m\u001b[38;5;124mdomain\u001b[39m\u001b[38;5;124m\"\u001b[39m] \u001b[38;5;241m=\u001b[39m _v\n\u001b[1;32m   2331\u001b[0m _v \u001b[38;5;241m=\u001b[39m arg\u001b[38;5;241m.\u001b[39mpop(\u001b[38;5;124m\"\u001b[39m\u001b[38;5;124mhole\u001b[39m\u001b[38;5;124m\"\u001b[39m, \u001b[38;5;28;01mNone\u001b[39;00m)\n\u001b[1;32m   2332\u001b[0m _v \u001b[38;5;241m=\u001b[39m hole \u001b[38;5;28;01mif\u001b[39;00m hole \u001b[38;5;129;01mis\u001b[39;00m \u001b[38;5;129;01mnot\u001b[39;00m \u001b[38;5;28;01mNone\u001b[39;00m \u001b[38;5;28;01melse\u001b[39;00m _v\n",
      "File \u001b[0;32m/opt/anaconda3/lib/python3.12/site-packages/plotly/basedatatypes.py:4866\u001b[0m, in \u001b[0;36mBasePlotlyType.__setitem__\u001b[0;34m(self, prop, value)\u001b[0m\n\u001b[1;32m   4864\u001b[0m \u001b[38;5;66;03m# ### Handle compound property ###\u001b[39;00m\n\u001b[1;32m   4865\u001b[0m \u001b[38;5;28;01mif\u001b[39;00m \u001b[38;5;28misinstance\u001b[39m(validator, CompoundValidator):\n\u001b[0;32m-> 4866\u001b[0m     \u001b[38;5;28mself\u001b[39m\u001b[38;5;241m.\u001b[39m_set_compound_prop(prop, value)\n\u001b[1;32m   4868\u001b[0m \u001b[38;5;66;03m# ### Handle compound array property ###\u001b[39;00m\n\u001b[1;32m   4869\u001b[0m \u001b[38;5;28;01melif\u001b[39;00m \u001b[38;5;28misinstance\u001b[39m(validator, (CompoundArrayValidator, BaseDataValidator)):\n",
      "File \u001b[0;32m/opt/anaconda3/lib/python3.12/site-packages/plotly/basedatatypes.py:5277\u001b[0m, in \u001b[0;36mBasePlotlyType._set_compound_prop\u001b[0;34m(self, prop, val)\u001b[0m\n\u001b[1;32m   5274\u001b[0m \u001b[38;5;66;03m# Import value\u001b[39;00m\n\u001b[1;32m   5275\u001b[0m \u001b[38;5;66;03m# ------------\u001b[39;00m\n\u001b[1;32m   5276\u001b[0m validator \u001b[38;5;241m=\u001b[39m \u001b[38;5;28mself\u001b[39m\u001b[38;5;241m.\u001b[39m_get_validator(prop)\n\u001b[0;32m-> 5277\u001b[0m val \u001b[38;5;241m=\u001b[39m validator\u001b[38;5;241m.\u001b[39mvalidate_coerce(val, skip_invalid\u001b[38;5;241m=\u001b[39m\u001b[38;5;28mself\u001b[39m\u001b[38;5;241m.\u001b[39m_skip_invalid)\n\u001b[1;32m   5279\u001b[0m \u001b[38;5;66;03m# Save deep copies of current and new states\u001b[39;00m\n\u001b[1;32m   5280\u001b[0m \u001b[38;5;66;03m# ------------------------------------------\u001b[39;00m\n\u001b[1;32m   5281\u001b[0m curr_val \u001b[38;5;241m=\u001b[39m \u001b[38;5;28mself\u001b[39m\u001b[38;5;241m.\u001b[39m_compound_props\u001b[38;5;241m.\u001b[39mget(prop, \u001b[38;5;28;01mNone\u001b[39;00m)\n",
      "File \u001b[0;32m/opt/anaconda3/lib/python3.12/site-packages/_plotly_utils/basevalidators.py:2484\u001b[0m, in \u001b[0;36mCompoundValidator.validate_coerce\u001b[0;34m(self, v, skip_invalid, _validate)\u001b[0m\n\u001b[1;32m   2481\u001b[0m     v \u001b[38;5;241m=\u001b[39m \u001b[38;5;28mself\u001b[39m\u001b[38;5;241m.\u001b[39mdata_class()\n\u001b[1;32m   2483\u001b[0m \u001b[38;5;28;01melif\u001b[39;00m \u001b[38;5;28misinstance\u001b[39m(v, \u001b[38;5;28mdict\u001b[39m):\n\u001b[0;32m-> 2484\u001b[0m     v \u001b[38;5;241m=\u001b[39m \u001b[38;5;28mself\u001b[39m\u001b[38;5;241m.\u001b[39mdata_class(v, skip_invalid\u001b[38;5;241m=\u001b[39mskip_invalid, _validate\u001b[38;5;241m=\u001b[39m_validate)\n\u001b[1;32m   2486\u001b[0m \u001b[38;5;28;01melif\u001b[39;00m \u001b[38;5;28misinstance\u001b[39m(v, \u001b[38;5;28mself\u001b[39m\u001b[38;5;241m.\u001b[39mdata_class):\n\u001b[1;32m   2487\u001b[0m     \u001b[38;5;66;03m# Copy object\u001b[39;00m\n\u001b[1;32m   2488\u001b[0m     v \u001b[38;5;241m=\u001b[39m \u001b[38;5;28mself\u001b[39m\u001b[38;5;241m.\u001b[39mdata_class(v)\n",
      "File \u001b[0;32m/opt/anaconda3/lib/python3.12/site-packages/plotly/graph_objs/pie/_domain.py:193\u001b[0m, in \u001b[0;36mDomain.__init__\u001b[0;34m(self, arg, column, row, x, y, **kwargs)\u001b[0m\n\u001b[1;32m    191\u001b[0m _v \u001b[38;5;241m=\u001b[39m x \u001b[38;5;28;01mif\u001b[39;00m x \u001b[38;5;129;01mis\u001b[39;00m \u001b[38;5;129;01mnot\u001b[39;00m \u001b[38;5;28;01mNone\u001b[39;00m \u001b[38;5;28;01melse\u001b[39;00m _v\n\u001b[1;32m    192\u001b[0m \u001b[38;5;28;01mif\u001b[39;00m _v \u001b[38;5;129;01mis\u001b[39;00m \u001b[38;5;129;01mnot\u001b[39;00m \u001b[38;5;28;01mNone\u001b[39;00m:\n\u001b[0;32m--> 193\u001b[0m     \u001b[38;5;28mself\u001b[39m[\u001b[38;5;124m\"\u001b[39m\u001b[38;5;124mx\u001b[39m\u001b[38;5;124m\"\u001b[39m] \u001b[38;5;241m=\u001b[39m _v\n\u001b[1;32m    194\u001b[0m _v \u001b[38;5;241m=\u001b[39m arg\u001b[38;5;241m.\u001b[39mpop(\u001b[38;5;124m\"\u001b[39m\u001b[38;5;124my\u001b[39m\u001b[38;5;124m\"\u001b[39m, \u001b[38;5;28;01mNone\u001b[39;00m)\n\u001b[1;32m    195\u001b[0m _v \u001b[38;5;241m=\u001b[39m y \u001b[38;5;28;01mif\u001b[39;00m y \u001b[38;5;129;01mis\u001b[39;00m \u001b[38;5;129;01mnot\u001b[39;00m \u001b[38;5;28;01mNone\u001b[39;00m \u001b[38;5;28;01melse\u001b[39;00m _v\n",
      "File \u001b[0;32m/opt/anaconda3/lib/python3.12/site-packages/plotly/basedatatypes.py:4874\u001b[0m, in \u001b[0;36mBasePlotlyType.__setitem__\u001b[0;34m(self, prop, value)\u001b[0m\n\u001b[1;32m   4870\u001b[0m         \u001b[38;5;28mself\u001b[39m\u001b[38;5;241m.\u001b[39m_set_array_prop(prop, value)\n\u001b[1;32m   4872\u001b[0m     \u001b[38;5;66;03m# ### Handle simple property ###\u001b[39;00m\n\u001b[1;32m   4873\u001b[0m     \u001b[38;5;28;01melse\u001b[39;00m:\n\u001b[0;32m-> 4874\u001b[0m         \u001b[38;5;28mself\u001b[39m\u001b[38;5;241m.\u001b[39m_set_prop(prop, value)\n\u001b[1;32m   4875\u001b[0m \u001b[38;5;28;01melse\u001b[39;00m:\n\u001b[1;32m   4876\u001b[0m     \u001b[38;5;66;03m# Make sure properties dict is initialized\u001b[39;00m\n\u001b[1;32m   4877\u001b[0m     \u001b[38;5;28mself\u001b[39m\u001b[38;5;241m.\u001b[39m_init_props()\n",
      "File \u001b[0;32m/opt/anaconda3/lib/python3.12/site-packages/plotly/basedatatypes.py:5218\u001b[0m, in \u001b[0;36mBasePlotlyType._set_prop\u001b[0;34m(self, prop, val)\u001b[0m\n\u001b[1;32m   5216\u001b[0m         \u001b[38;5;28;01mreturn\u001b[39;00m\n\u001b[1;32m   5217\u001b[0m     \u001b[38;5;28;01melse\u001b[39;00m:\n\u001b[0;32m-> 5218\u001b[0m         \u001b[38;5;28;01mraise\u001b[39;00m err\n\u001b[1;32m   5220\u001b[0m \u001b[38;5;66;03m# val is None\u001b[39;00m\n\u001b[1;32m   5221\u001b[0m \u001b[38;5;66;03m# -----------\u001b[39;00m\n\u001b[1;32m   5222\u001b[0m \u001b[38;5;28;01mif\u001b[39;00m val \u001b[38;5;129;01mis\u001b[39;00m \u001b[38;5;28;01mNone\u001b[39;00m:\n\u001b[1;32m   5223\u001b[0m     \u001b[38;5;66;03m# Check if we should send null update\u001b[39;00m\n",
      "File \u001b[0;32m/opt/anaconda3/lib/python3.12/site-packages/plotly/basedatatypes.py:5213\u001b[0m, in \u001b[0;36mBasePlotlyType._set_prop\u001b[0;34m(self, prop, val)\u001b[0m\n\u001b[1;32m   5210\u001b[0m validator \u001b[38;5;241m=\u001b[39m \u001b[38;5;28mself\u001b[39m\u001b[38;5;241m.\u001b[39m_get_validator(prop)\n\u001b[1;32m   5212\u001b[0m \u001b[38;5;28;01mtry\u001b[39;00m:\n\u001b[0;32m-> 5213\u001b[0m     val \u001b[38;5;241m=\u001b[39m validator\u001b[38;5;241m.\u001b[39mvalidate_coerce(val)\n\u001b[1;32m   5214\u001b[0m \u001b[38;5;28;01mexcept\u001b[39;00m \u001b[38;5;167;01mValueError\u001b[39;00m \u001b[38;5;28;01mas\u001b[39;00m err:\n\u001b[1;32m   5215\u001b[0m     \u001b[38;5;28;01mif\u001b[39;00m \u001b[38;5;28mself\u001b[39m\u001b[38;5;241m.\u001b[39m_skip_invalid:\n",
      "File \u001b[0;32m/opt/anaconda3/lib/python3.12/site-packages/_plotly_utils/basevalidators.py:2212\u001b[0m, in \u001b[0;36mInfoArrayValidator.validate_coerce\u001b[0;34m(self, v)\u001b[0m\n\u001b[1;32m   2208\u001b[0m \u001b[38;5;28;01melse\u001b[39;00m:\n\u001b[1;32m   2209\u001b[0m     \u001b[38;5;66;03m# We have a 1D array of the correct length\u001b[39;00m\n\u001b[1;32m   2210\u001b[0m     \u001b[38;5;28;01mfor\u001b[39;00m i, (el, validator) \u001b[38;5;129;01min\u001b[39;00m \u001b[38;5;28menumerate\u001b[39m(\u001b[38;5;28mzip\u001b[39m(v, \u001b[38;5;28mself\u001b[39m\u001b[38;5;241m.\u001b[39mitem_validators)):\n\u001b[1;32m   2211\u001b[0m         \u001b[38;5;66;03m# Validate coerce elements\u001b[39;00m\n\u001b[0;32m-> 2212\u001b[0m         v[i] \u001b[38;5;241m=\u001b[39m validator\u001b[38;5;241m.\u001b[39mvalidate_coerce(el)\n\u001b[1;32m   2214\u001b[0m \u001b[38;5;28;01mreturn\u001b[39;00m v\n",
      "File \u001b[0;32m/opt/anaconda3/lib/python3.12/site-packages/_plotly_utils/basevalidators.py:812\u001b[0m, in \u001b[0;36mNumberValidator.validate_coerce\u001b[0;34m(self, v)\u001b[0m\n\u001b[1;32m    810\u001b[0m     \u001b[38;5;28;01mif\u001b[39;00m \u001b[38;5;28mself\u001b[39m\u001b[38;5;241m.\u001b[39mhas_min_max:\n\u001b[1;32m    811\u001b[0m         \u001b[38;5;28;01mif\u001b[39;00m \u001b[38;5;129;01mnot\u001b[39;00m (\u001b[38;5;28mself\u001b[39m\u001b[38;5;241m.\u001b[39mmin_val \u001b[38;5;241m<\u001b[39m\u001b[38;5;241m=\u001b[39m v \u001b[38;5;241m<\u001b[39m\u001b[38;5;241m=\u001b[39m \u001b[38;5;28mself\u001b[39m\u001b[38;5;241m.\u001b[39mmax_val):\n\u001b[0;32m--> 812\u001b[0m             \u001b[38;5;28mself\u001b[39m\u001b[38;5;241m.\u001b[39mraise_invalid_val(v)\n\u001b[1;32m    813\u001b[0m \u001b[38;5;28;01mreturn\u001b[39;00m v\n",
      "File \u001b[0;32m/opt/anaconda3/lib/python3.12/site-packages/_plotly_utils/basevalidators.py:296\u001b[0m, in \u001b[0;36mBaseValidator.raise_invalid_val\u001b[0;34m(self, v, inds)\u001b[0m\n\u001b[1;32m    293\u001b[0m             \u001b[38;5;28;01mfor\u001b[39;00m i \u001b[38;5;129;01min\u001b[39;00m inds:\n\u001b[1;32m    294\u001b[0m                 name \u001b[38;5;241m+\u001b[39m\u001b[38;5;241m=\u001b[39m \u001b[38;5;124m\"\u001b[39m\u001b[38;5;124m[\u001b[39m\u001b[38;5;124m\"\u001b[39m \u001b[38;5;241m+\u001b[39m \u001b[38;5;28mstr\u001b[39m(i) \u001b[38;5;241m+\u001b[39m \u001b[38;5;124m\"\u001b[39m\u001b[38;5;124m]\u001b[39m\u001b[38;5;124m\"\u001b[39m\n\u001b[0;32m--> 296\u001b[0m         \u001b[38;5;28;01mraise\u001b[39;00m \u001b[38;5;167;01mValueError\u001b[39;00m(\n\u001b[1;32m    297\u001b[0m \u001b[38;5;250m            \u001b[39m\u001b[38;5;124;03m\"\"\"\u001b[39;00m\n\u001b[1;32m    298\u001b[0m \u001b[38;5;124;03m    Invalid value of type {typ} received for the '{name}' property of {pname}\u001b[39;00m\n\u001b[1;32m    299\u001b[0m \u001b[38;5;124;03m        Received value: {v}\u001b[39;00m\n\u001b[1;32m    300\u001b[0m \n\u001b[1;32m    301\u001b[0m \u001b[38;5;124;03m{valid_clr_desc}\"\"\"\u001b[39;00m\u001b[38;5;241m.\u001b[39mformat(\n\u001b[1;32m    302\u001b[0m                 name\u001b[38;5;241m=\u001b[39mname,\n\u001b[1;32m    303\u001b[0m                 pname\u001b[38;5;241m=\u001b[39m\u001b[38;5;28mself\u001b[39m\u001b[38;5;241m.\u001b[39mparent_name,\n\u001b[1;32m    304\u001b[0m                 typ\u001b[38;5;241m=\u001b[39mtype_str(v),\n\u001b[1;32m    305\u001b[0m                 v\u001b[38;5;241m=\u001b[39m\u001b[38;5;28mrepr\u001b[39m(v),\n\u001b[1;32m    306\u001b[0m                 valid_clr_desc\u001b[38;5;241m=\u001b[39m\u001b[38;5;28mself\u001b[39m\u001b[38;5;241m.\u001b[39mdescription(),\n\u001b[1;32m    307\u001b[0m             )\n\u001b[1;32m    308\u001b[0m         )\n",
      "\u001b[0;31mValueError\u001b[0m: \n    Invalid value of type 'builtins.float' received for the 'x[0]' property of pie.domain\n        Received value: -0.3400538888888889\n\n    The 'x[0]' property is a number and may be specified as:\n      - An int or float in the interval [0, 1]"
     ]
    }
   ],
   "source": [
    "import plotly.graph_objects as go\n",
    "import pandas as pd\n",
    "\n",
    "# Sample data\n",
    "data = {\n",
    "    'latitude': [37.7749, 40.7128, 34.0522],\n",
    "    'longitude': [-122.4194, -74.0060, -118.2437],\n",
    "    'size': [100, 200, 150],\n",
    "    'category1': [20, 30, 40],\n",
    "    'category2': [80, 70, 60]\n",
    "}\n",
    "df = pd.DataFrame(data)\n",
    "\n",
    "# Create the figure\n",
    "fig = go.Figure()\n",
    "\n",
    "# Add the bubble map trace\n",
    "fig.add_trace(go.Scattergeo(\n",
    "    lat=df['latitude'],\n",
    "    lon=df['longitude'],\n",
    "    marker=dict(\n",
    "        size=df['size'],\n",
    "        sizemode='area',\n",
    "        color='blue',\n",
    "        opacity=0.7\n",
    "    ),\n",
    "))\n",
    "\n",
    "# Add the pie charts\n",
    "for i in range(len(df)):\n",
    "    fig.add_trace(go.Pie(\n",
    "        values=[df['category1'][i], df['category2'][i]],\n",
    "        labels=['Category 1', 'Category 2'],\n",
    "        domain=dict(x=[df['longitude'][i]/360, df['longitude'][i]/360 + 0.05],\n",
    "                    y=[df['latitude'][i]/180, df['latitude'][i]/180 + 0.05]),\n",
    "        hole=0.3,\n",
    "        showlegend=False\n",
    "    ))\n",
    "\n",
    "# Update layout\n",
    "fig.update_layout(\n",
    "    geo=dict(\n",
    "        scope='usa',\n",
    "        projection_type='albers usa',\n",
    "        showland=True,\n",
    "        landcolor='rgb(217, 217, 217)',\n",
    "        subunitcolor='rgb(255, 255, 255)',\n",
    "        countrycolor='rgb(255, 255, 255)',\n",
    "        coastlinecolor='rgb(255, 255, 255)'\n",
    "    ),\n",
    "    title='Bubble Map with Pie Charts'\n",
    ")\n",
    "\n",
    "fig.show()"
   ]
  },
  {
   "cell_type": "code",
   "execution_count": null,
   "metadata": {},
   "outputs": [],
   "source": []
  }
 ],
 "metadata": {
  "kernelspec": {
   "display_name": "base",
   "language": "python",
   "name": "python3"
  },
  "language_info": {
   "codemirror_mode": {
    "name": "ipython",
    "version": 3
   },
   "file_extension": ".py",
   "mimetype": "text/x-python",
   "name": "python",
   "nbconvert_exporter": "python",
   "pygments_lexer": "ipython3",
   "version": "3.12.4"
  }
 },
 "nbformat": 4,
 "nbformat_minor": 2
}
